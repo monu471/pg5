{
 "cells": [
  {
   "cell_type": "code",
   "execution_count": null,
   "id": "536ecf0b",
   "metadata": {},
   "outputs": [],
   "source": [
    "# 1. What does an empty dictionary code look like?\n",
    "data = {}\n",
    "print(type(data))"
   ]
  },
  {
   "cell_type": "code",
   "execution_count": null,
   "id": "3e644e53",
   "metadata": {},
   "outputs": [],
   "source": [
    "#  What is the value of a dictionary value with the key 'foo' and the value 42?\n",
    "dic = {\"foo\":42}\n",
    "dic.values()"
   ]
  },
  {
   "cell_type": "code",
   "execution_count": null,
   "id": "b1e4ba49",
   "metadata": {},
   "outputs": [],
   "source": [
    "# What is the most significant distinction between a dictionary and a list?\n",
    "list = The elements are accessed via indices,\n",
    "dictionary = The elements are accessed via key-values."
   ]
  },
  {
   "cell_type": "code",
   "execution_count": null,
   "id": "599fe750",
   "metadata": {},
   "outputs": [],
   "source": [
    "# What happens if you try to access spam['foo'] if spam is {'bar': 100}?\n",
    "spam =  {'bar': 100}\n",
    "spam[\"foo\"]\n",
    "gives keyerror"
   ]
  },
  {
   "cell_type": "code",
   "execution_count": null,
   "id": "39cf4fb0",
   "metadata": {},
   "outputs": [],
   "source": [
    "# If a dictionary is stored in spam, what is the difference between the expressions 'cat' in spam and 'cat' in spam.keys()?\n",
    "spam = {\"cat\":45}\n",
    "\"cat \"= is key of single value of 45\n",
    "spam.keys() =  we access all thre key of values in dictionary"
   ]
  },
  {
   "cell_type": "code",
   "execution_count": null,
   "id": "3f11ac22",
   "metadata": {},
   "outputs": [],
   "source": [
    "# What is a shortcut for the following code?\n",
    "# if 'color' not in spam:\n",
    "# spam['color'] = 'black'\n",
    "spam = {\"a\":\"red\",\"b\":\"yellow\" ,\"color\":\"black\"}\n"
   ]
  },
  {
   "cell_type": "code",
   "execution_count": null,
   "id": "6e64bae0",
   "metadata": {},
   "outputs": [],
   "source": [
    "# How do you \"pretty print\" dictionary values using which module and function?"
   ]
  },
  {
   "cell_type": "code",
   "execution_count": 2,
   "id": "6abdc190",
   "metadata": {},
   "outputs": [
    {
     "name": "stdout",
     "output_type": "stream",
     "text": [
      "[{'Age': '23', 'Country': 'USA', 'Name': 'John'},\n",
      " {'Age': '44', 'Country': 'Spain', 'Name': 'Jose'},\n",
      " {'Age': '29', 'Country': 'UK', 'Name': 'Anne'},\n",
      " {'Age': '35', 'Country': 'Japan', 'Name': 'Lee'}]\n"
     ]
    }
   ],
   "source": [
    "import pprint\n",
    "\n",
    "dct_arr = [\n",
    "  {'Name': 'John', 'Age': '23', 'Country': 'USA'},\n",
    "  {'Name': 'Jose', 'Age': '44', 'Country': 'Spain'},\n",
    "  {'Name': 'Anne', 'Age': '29', 'Country': 'UK'},\n",
    "  {'Name': 'Lee', 'Age': '35', 'Country': 'Japan'}\n",
    "]\n",
    "\n",
    "pprint.pprint(dct_arr)"
   ]
  },
  {
   "cell_type": "code",
   "execution_count": 3,
   "id": "a0d4a0c9",
   "metadata": {},
   "outputs": [
    {
     "name": "stdout",
     "output_type": "stream",
     "text": [
      "[{'Name': 'John', 'Age': '23', 'Country': 'USA'}, {'Name': 'Jose', 'Age': '44', 'Country': 'Spain'}, {'Name': 'Anne', 'Age': '29', 'Country': 'UK'}, {'Name': 'Lee', 'Age': '35', 'Country': 'Japan'}]\n"
     ]
    }
   ],
   "source": [
    "print(dct_arr)"
   ]
  },
  {
   "cell_type": "code",
   "execution_count": null,
   "id": "99e402f0",
   "metadata": {},
   "outputs": [],
   "source": []
  }
 ],
 "metadata": {
  "kernelspec": {
   "display_name": "Python 3 (ipykernel)",
   "language": "python",
   "name": "python3"
  },
  "language_info": {
   "codemirror_mode": {
    "name": "ipython",
    "version": 3
   },
   "file_extension": ".py",
   "mimetype": "text/x-python",
   "name": "python",
   "nbconvert_exporter": "python",
   "pygments_lexer": "ipython3",
   "version": "3.9.12"
  }
 },
 "nbformat": 4,
 "nbformat_minor": 5
}
